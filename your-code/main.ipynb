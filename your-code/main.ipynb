{
 "cells": [
  {
   "cell_type": "markdown",
   "metadata": {},
   "source": [
    "# Intrduction to NumPy\n",
    "\n",
    "\n",
    "#### 1. Import NumPy under the name np."
   ]
  },
  {
   "cell_type": "code",
   "execution_count": 1,
   "metadata": {},
   "outputs": [],
   "source": [
    "# your code here\n",
    "import numpy as np"
   ]
  },
  {
   "cell_type": "markdown",
   "metadata": {},
   "source": [
    "#### 2. Print your NumPy version."
   ]
  },
  {
   "cell_type": "code",
   "execution_count": 2,
   "metadata": {},
   "outputs": [
    {
     "data": {
      "text/plain": [
       "'1.17.2'"
      ]
     },
     "execution_count": 2,
     "metadata": {},
     "output_type": "execute_result"
    }
   ],
   "source": [
    "# your code here\n",
    "np.version.version"
   ]
  },
  {
   "cell_type": "markdown",
   "metadata": {},
   "source": [
    "#### 3. Generate a 2x3x5 3-dimensional array with random values. Assign the array to variable *a*.\n",
    "**Challenge**: there are at least three easy ways that use numpy to generate random arrays. How many ways can you find?"
   ]
  },
  {
   "cell_type": "code",
   "execution_count": 9,
   "metadata": {},
   "outputs": [
    {
     "data": {
      "text/plain": [
       "array([[[0.9745364 , 0.96303088, 0.8524561 , 0.36211119, 0.08681381],\n",
       "        [0.26877059, 0.81398307, 0.71400584, 0.81560237, 0.82195516],\n",
       "        [0.42829778, 0.12603009, 0.54510334, 0.49280251, 0.55475654]],\n",
       "\n",
       "       [[0.77415423, 0.78746256, 0.73031699, 0.47429131, 0.28902483],\n",
       "        [0.63301026, 0.85443593, 0.74235553, 0.15036509, 0.92110394],\n",
       "        [0.04515302, 0.52623689, 0.46528109, 0.8054192 , 0.51082057]]])"
      ]
     },
     "execution_count": 9,
     "metadata": {},
     "output_type": "execute_result"
    }
   ],
   "source": [
    "# Method 1\n",
    "a=np.random.rand(2,3,5)\n",
    "a"
   ]
  },
  {
   "cell_type": "code",
   "execution_count": 8,
   "metadata": {},
   "outputs": [
    {
     "data": {
      "text/plain": [
       "array([[[17,  9, 29, 28,  8],\n",
       "        [16, 34, 15, 25, 11],\n",
       "        [28, 16, 22,  4, 32]],\n",
       "\n",
       "       [[10, 28, 39, 10, 39],\n",
       "        [20, 39,  0, 13, 36],\n",
       "        [34,  2, 14,  4, 33]]])"
      ]
     },
     "execution_count": 8,
     "metadata": {},
     "output_type": "execute_result"
    }
   ],
   "source": [
    "# Method 2\n",
    "a=np.random.randint(0,40, size=(2,3,5))\n",
    "a"
   ]
  },
  {
   "cell_type": "code",
   "execution_count": 94,
   "metadata": {},
   "outputs": [
    {
     "name": "stdout",
     "output_type": "stream",
     "text": [
      "[[[4629418941960159232 4626322717216342016 4631811479262199808\n",
      "   4626885667169763328 4633359591634108416]\n",
      "  [4628293042053316608 4630404104378646528 4631248529308778496\n",
      "   4619567317775286272 4611686018427387904]\n",
      "  [4629137466983448576 4631952216750555136 4632374429215621120\n",
      "   4629700416936869888 4616189618054758400]]\n",
      "\n",
      " [[4629700416936869888 4627167142146473984 4622945017495814144\n",
      "   4634063279075885056 4631107791820423168]\n",
      "  [4607182418800017408 4619567317775286272 4626604192193052672\n",
      "   4633078116657397760 4632655904192331776]\n",
      "  [4631248529308778496 4633500329122463744 4630544841867001856\n",
      "   4633781804099174400 4611686018427387904]]]\n"
     ]
    }
   ],
   "source": [
    "# Method 3\n",
    "a=np.empty((2,3,5), dtype=int)\n",
    "print(a)"
   ]
  },
  {
   "cell_type": "markdown",
   "metadata": {},
   "source": [
    "#### 4. Print *a*.\n"
   ]
  },
  {
   "cell_type": "code",
   "execution_count": 17,
   "metadata": {},
   "outputs": [
    {
     "name": "stderr",
     "output_type": "stream",
     "text": [
      "/usr/local/Cellar/ipython/7.8.0/libexec/vendor/lib/python3.7/site-packages/ipykernel_launcher.py:2: DeprecationWarning: This function is deprecated. Please call randint(0, 62 + 1) instead\n",
      "  \n"
     ]
    },
    {
     "data": {
      "text/plain": [
       "array([[[30, 19, 46, 21, 57],\n",
       "        [26, 36, 42,  6,  1],\n",
       "        [29, 47, 50, 31,  3]],\n",
       "\n",
       "       [[31, 22, 11, 62, 41],\n",
       "        [ 0,  6, 20, 55, 52],\n",
       "        [42, 58, 37, 60,  1]]])"
      ]
     },
     "execution_count": 17,
     "metadata": {},
     "output_type": "execute_result"
    }
   ],
   "source": [
    "# your code here\n",
    "a = np.random.random_integers(0,62,size=(2,3,5))\n",
    "a"
   ]
  },
  {
   "cell_type": "markdown",
   "metadata": {},
   "source": [
    "#### 5. Create a 5x2x3 3-dimensional array with all values equaling 1. Assign the array to variable *b*."
   ]
  },
  {
   "cell_type": "code",
   "execution_count": 42,
   "metadata": {},
   "outputs": [],
   "source": [
    "# your code here\n",
    "b = np.ones((5,2,3))"
   ]
  },
  {
   "cell_type": "markdown",
   "metadata": {},
   "source": [
    "#### 6. Print *b*.\n"
   ]
  },
  {
   "cell_type": "code",
   "execution_count": 43,
   "metadata": {},
   "outputs": [
    {
     "data": {
      "text/plain": [
       "array([[[1., 1., 1.],\n",
       "        [1., 1., 1.]],\n",
       "\n",
       "       [[1., 1., 1.],\n",
       "        [1., 1., 1.]],\n",
       "\n",
       "       [[1., 1., 1.],\n",
       "        [1., 1., 1.]],\n",
       "\n",
       "       [[1., 1., 1.],\n",
       "        [1., 1., 1.]],\n",
       "\n",
       "       [[1., 1., 1.],\n",
       "        [1., 1., 1.]]])"
      ]
     },
     "execution_count": 43,
     "metadata": {},
     "output_type": "execute_result"
    }
   ],
   "source": [
    "# your code here\n",
    "b"
   ]
  },
  {
   "cell_type": "markdown",
   "metadata": {},
   "source": [
    "#### 7. Do *a* and *b* have the same size? How do you prove that in Python code?"
   ]
  },
  {
   "cell_type": "code",
   "execution_count": 22,
   "metadata": {},
   "outputs": [
    {
     "name": "stdout",
     "output_type": "stream",
     "text": [
      "(2, 3, 5)\n",
      "(5, 2, 3)\n"
     ]
    }
   ],
   "source": [
    "# your code here\n",
    "print(np.shape(a))\n",
    "print(np.shape(b))"
   ]
  },
  {
   "cell_type": "markdown",
   "metadata": {},
   "source": [
    "#### 8. Are you able to add *a* and *b*? Why or why not?\n"
   ]
  },
  {
   "cell_type": "code",
   "execution_count": null,
   "metadata": {},
   "outputs": [],
   "source": [
    "# your answer here, not possible due to the fact that in a,the arguments are 5 in 3 sized when in b is just 3 in a 2 sized array"
   ]
  },
  {
   "cell_type": "markdown",
   "metadata": {},
   "source": [
    "#### 9. Transpose *b* so that it has the same structure of *a* (i.e. become a 2x3x5 array). Assign the transposed array to variable *c*."
   ]
  },
  {
   "cell_type": "code",
   "execution_count": 49,
   "metadata": {},
   "outputs": [
    {
     "name": "stdout",
     "output_type": "stream",
     "text": [
      "[[[1. 1. 1.]\n",
      "  [1. 1. 1.]]\n",
      "\n",
      " [[1. 1. 1.]\n",
      "  [1. 1. 1.]]\n",
      "\n",
      " [[1. 1. 1.]\n",
      "  [1. 1. 1.]]\n",
      "\n",
      " [[1. 1. 1.]\n",
      "  [1. 1. 1.]]\n",
      "\n",
      " [[1. 1. 1.]\n",
      "  [1. 1. 1.]]]\n"
     ]
    },
    {
     "data": {
      "text/plain": [
       "(2, 3, 5)"
      ]
     },
     "execution_count": 49,
     "metadata": {},
     "output_type": "execute_result"
    }
   ],
   "source": [
    "# your code here\n",
    "print(b)\n",
    "c = b.transpose(1,2,0)\n",
    "c.shape\n"
   ]
  },
  {
   "cell_type": "markdown",
   "metadata": {},
   "source": [
    "#### 10. Try to add *a* and *c*. Now it should work. Assign the sum to variable *d*. But why does it work now?"
   ]
  },
  {
   "cell_type": "code",
   "execution_count": 51,
   "metadata": {},
   "outputs": [
    {
     "data": {
      "text/plain": [
       "array([[[31., 20., 47., 22., 58.],\n",
       "        [27., 37., 43.,  7.,  2.],\n",
       "        [30., 48., 51., 32.,  4.]],\n",
       "\n",
       "       [[32., 23., 12., 63., 42.],\n",
       "        [ 1.,  7., 21., 56., 53.],\n",
       "        [43., 59., 38., 61.,  2.]]])"
      ]
     },
     "execution_count": 51,
     "metadata": {},
     "output_type": "execute_result"
    }
   ],
   "source": [
    "# your code/answer here\n",
    "d = a+c\n",
    "d\n",
    "#they have the same shape"
   ]
  },
  {
   "cell_type": "markdown",
   "metadata": {},
   "source": [
    "#### 11. Print *a* and *d*. Notice the difference and relation of the two array in terms of the values? Explain."
   ]
  },
  {
   "cell_type": "code",
   "execution_count": 78,
   "metadata": {},
   "outputs": [
    {
     "name": "stdout",
     "output_type": "stream",
     "text": [
      "[[[30 19 46 21 57]\n",
      "  [26 36 42  6  1]\n",
      "  [29 47 50 31  3]]\n",
      "\n",
      " [[31 22 11 62 41]\n",
      "  [ 0  6 20 55 52]\n",
      "  [42 58 37 60  1]]]\n",
      "\n",
      "[[[31. 20. 47. 22. 58.]\n",
      "  [27. 37. 43.  7.  2.]\n",
      "  [30. 48. 51. 32.  4.]]\n",
      "\n",
      " [[32. 23. 12. 63. 42.]\n",
      "  [ 1.  7. 21. 56. 53.]\n",
      "  [43. 59. 38. 61.  2.]]]\n"
     ]
    }
   ],
   "source": [
    "# your code/answer here\n",
    "print(a)\n",
    "print(\"\")\n",
    "print(d)\n",
    "#d has 1 more in each value than a, and the values are floating and not integers"
   ]
  },
  {
   "cell_type": "markdown",
   "metadata": {},
   "source": [
    "#### 12. Multiply *a* and *c*. Assign the result to *e*."
   ]
  },
  {
   "cell_type": "code",
   "execution_count": 55,
   "metadata": {},
   "outputs": [],
   "source": [
    "# your code here\n",
    "e=a*c"
   ]
  },
  {
   "cell_type": "markdown",
   "metadata": {},
   "source": [
    "#### 13. Does *e* equal to *a*? Why or why not?\n"
   ]
  },
  {
   "cell_type": "code",
   "execution_count": 56,
   "metadata": {},
   "outputs": [
    {
     "name": "stdout",
     "output_type": "stream",
     "text": [
      "[[[30. 19. 46. 21. 57.]\n",
      "  [26. 36. 42.  6.  1.]\n",
      "  [29. 47. 50. 31.  3.]]\n",
      "\n",
      " [[31. 22. 11. 62. 41.]\n",
      "  [ 0.  6. 20. 55. 52.]\n",
      "  [42. 58. 37. 60.  1.]]]\n"
     ]
    }
   ],
   "source": [
    "# your code/answer here\n",
    "print(e)\n",
    "#yes because is like multiplying by 1"
   ]
  },
  {
   "cell_type": "markdown",
   "metadata": {},
   "source": [
    "#### 14. Identify the max, min, and mean values in *d*. Assign those values to variables *d_max*, *d_min* and *d_mean*."
   ]
  },
  {
   "cell_type": "code",
   "execution_count": 65,
   "metadata": {},
   "outputs": [
    {
     "name": "stdout",
     "output_type": "stream",
     "text": [
      "63.0 1.0 32.4\n"
     ]
    }
   ],
   "source": [
    "# your code here\n",
    "d_max=np.amax(d)\n",
    "d_min=np.amin(d)\n",
    "d_mean=np.mean(d)\n",
    "print(d_max,d_min,d_mean)"
   ]
  },
  {
   "cell_type": "markdown",
   "metadata": {},
   "source": [
    "#### 15. Now we want to label the values in *d*. First create an empty array *f* with the same shape (i.e. 2x3x5) as *d* using `np.empty`.\n"
   ]
  },
  {
   "cell_type": "code",
   "execution_count": 70,
   "metadata": {},
   "outputs": [
    {
     "name": "stdout",
     "output_type": "stream",
     "text": [
      "[[[31. 20. 47. 22. 58.]\n",
      "  [27. 37. 43.  7.  2.]\n",
      "  [30. 48. 51. 32.  4.]]\n",
      "\n",
      " [[32. 23. 12. 63. 42.]\n",
      "  [ 1.  7. 21. 56. 53.]\n",
      "  [43. 59. 38. 61.  2.]]]\n"
     ]
    }
   ],
   "source": [
    "# your code here\n",
    "f = np.empty((2,3,5))\n",
    "print(f)"
   ]
  },
  {
   "cell_type": "markdown",
   "metadata": {},
   "source": [
    "#### 16. Populate the values in *f*. \n",
    "\n",
    "For each value in *d*, if it's larger than *d_min* but smaller than *d_mean*, assign 25 to the corresponding value in *f*. If a value in *d* is larger than *d_mean* but smaller than *d_max*, assign 75 to the corresponding value in *f*. If a value equals to *d_mean*, assign 50 to the corresponding value in *f*. Assign 0 to the corresponding value(s) in *f* for *d_min* in *d*. Assign 100 to the corresponding value(s) in *f* for *d_max* in *d*. In the end, f should have only the following values: 0, 25, 50, 75, and 100.\n",
    "\n",
    "**Note**: you don't have to use Numpy in this question."
   ]
  },
  {
   "cell_type": "code",
   "execution_count": 92,
   "metadata": {},
   "outputs": [
    {
     "name": "stdout",
     "output_type": "stream",
     "text": [
      "[[[ 25  25  75  25  75]\n",
      "  [ 25  75  75  25  25]\n",
      "  [ 25  75  75  25  25]]\n",
      "\n",
      " [[ 25  25  25 100  75]\n",
      "  [  0  25  25  75  75]\n",
      "  [ 75  75  75  75  25]]]\n"
     ]
    }
   ],
   "source": [
    "# your code here\n",
    "\n",
    "f=[]\n",
    "for x in d.flatten():\n",
    "    if x==d_mean:\n",
    "        x=50\n",
    "        f.append(x)\n",
    "    elif x==d_min:\n",
    "        x=0\n",
    "        f.append(x)\n",
    "    elif x==d_max:\n",
    "        x=100\n",
    "        f.append(x)\n",
    "\n",
    "    elif x > d_min and x<d_mean:\n",
    "        x=25\n",
    "        f.append(x)\n",
    "\n",
    "    elif x>d_mean and x<d_max:\n",
    "        x=75\n",
    "        f.append(x)\n",
    "\n",
    "f=np.reshape(f,(2,3,5))\n",
    "print(f)"
   ]
  },
  {
   "cell_type": "markdown",
   "metadata": {},
   "source": [
    "#### 17. Print *d* and *f*. Do you have your expected *f*?\n",
    "For instance, if your *d* is:\n",
    "```python\n",
    "[[[1.85836099, 1.67064465, 1.62576044, 1.40243961, 1.88454931],\n",
    "[1.75354326, 1.69403643, 1.36729252, 1.61415071, 1.12104981],\n",
    "[1.72201435, 1.1862918 , 1.87078449, 1.7726778 , 1.88180042]],\n",
    "[[1.44747908, 1.31673383, 1.02000951, 1.52218947, 1.97066381],\n",
    "[1.79129243, 1.74983003, 1.96028037, 1.85166831, 1.65450881],\n",
    "[1.18068344, 1.9587381 , 1.00656599, 1.93402165, 1.73514584]]]\n",
    "```\n",
    "Your *f* should be:\n",
    "```python\n",
    "[[[ 75.,  75.,  75.,  25.,  75.],\n",
    "[ 75.,  75.,  25.,  25.,  25.],\n",
    "[ 75.,  25.,  75.,  75.,  75.]],\n",
    "[[ 25.,  25.,  25.,  25., 100.],\n",
    "[ 75.,  75.,  75.,  75.,  75.],\n",
    "[ 25.,  75.,   0.,  75.,  75.]]]\n",
    "```"
   ]
  },
  {
   "cell_type": "code",
   "execution_count": 91,
   "metadata": {},
   "outputs": [
    {
     "name": "stdout",
     "output_type": "stream",
     "text": [
      "[[[31. 20. 47. 22. 58.]\n",
      "  [27. 37. 43.  7.  2.]\n",
      "  [30. 48. 51. 32.  4.]]\n",
      "\n",
      " [[32. 23. 12. 63. 42.]\n",
      "  [ 1.  7. 21. 56. 53.]\n",
      "  [43. 59. 38. 61.  2.]]]\n",
      "[[[ 25  25  75  25  75]\n",
      "  [ 25  75  75  25  25]\n",
      "  [ 25  75  75  25  25]]\n",
      "\n",
      " [[ 25  25  25 100  75]\n",
      "  [  0  25  25  75  75]\n",
      "  [ 75  75  75  75  25]]]\n"
     ]
    }
   ],
   "source": [
    "# your code here\n",
    "print(d)\n",
    "print(f)"
   ]
  },
  {
   "cell_type": "markdown",
   "metadata": {},
   "source": [
    "#### 18. Bonus question: instead of using numbers (i.e. 0, 25, 50, 75, and 100), use string values  (\"A\", \"B\", \"C\", \"D\", and \"E\") to label the array elements. For the example above, the expected result is:\n",
    "\n",
    "```python\n",
    "[[[ 'D',  'D',  'D',  'B',  'D'],\n",
    "[ 'D',  'D',  'B',  'B',  'B'],\n",
    "[ 'D',  'B',  'D',  'D',  'D']],\n",
    "[[ 'B',  'B',  'B',  'B',  'E'],\n",
    "[ 'D',  'D',  'D',  'D',  'D'],\n",
    "[ 'B',  'D',   'A',  'D', 'D']]]\n",
    "```\n",
    "**Note**: you don't have to use Numpy in this question."
   ]
  },
  {
   "cell_type": "code",
   "execution_count": null,
   "metadata": {},
   "outputs": [],
   "source": [
    "# your code here"
   ]
  }
 ],
 "metadata": {
  "kernelspec": {
   "display_name": "Python 3",
   "language": "python",
   "name": "python3"
  },
  "language_info": {
   "codemirror_mode": {
    "name": "ipython",
    "version": 3
   },
   "file_extension": ".py",
   "mimetype": "text/x-python",
   "name": "python",
   "nbconvert_exporter": "python",
   "pygments_lexer": "ipython3",
   "version": "3.7.4"
  }
 },
 "nbformat": 4,
 "nbformat_minor": 2
}
